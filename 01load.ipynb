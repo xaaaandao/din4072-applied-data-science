{
 "cells": [
  {
   "cell_type": "code",
   "execution_count": null,
   "id": "70925bfe",
   "metadata": {},
   "outputs": [],
   "source": [
    "import os \n",
    "\n",
    "email = os.environ[\"EMAIL\"]\n",
    "!wget -O sibbr.zip \"https://biocache-service.sibbr.gov.br/biocache-service/occurrences/index/download?q=*%3A*&email=${email}&sourceTypeId=&reasonTypeId=3&file=data&extra=dataResourceUid,dataResourceName.p\""
   ]
  },
  {
   "cell_type": "code",
   "execution_count": 10,
   "id": "02e07b41",
   "metadata": {},
   "outputs": [
    {
     "name": "stdout",
     "output_type": "stream",
     "text": [
      "Archive:  sibbr.zip\n",
      "  inflating: sibbr/data.csv          \n",
      "  inflating: sibbr/data_part2.csv    \n",
      "  inflating: sibbr/data_part3.csv    \n",
      "  inflating: sibbr/data_part4.csv    \n",
      "  inflating: sibbr/citation.csv      \n",
      "  inflating: sibbr/README.html       \n",
      "  inflating: sibbr/headings.csv      \n"
     ]
    }
   ],
   "source": [
    "!unzip -d sibbr/ sibbr.zip "
   ]
  },
  {
   "cell_type": "code",
   "execution_count": 11,
   "id": "9003daf2",
   "metadata": {},
   "outputs": [
    {
     "name": "stdout",
     "output_type": "stream",
     "text": [
      "The autoreload extension is already loaded. To reload it, use:\n",
      "  %reload_ext autoreload\n"
     ]
    }
   ],
   "source": [
    "%load_ext autoreload\n",
    "%autoreload 2\n",
    "import duckdb\n",
    "import os\n",
    "import pandas as pd\n",
    "import pathlib"
   ]
  },
  {
   "cell_type": "code",
   "execution_count": 12,
   "id": "232589c3",
   "metadata": {},
   "outputs": [],
   "source": [
    "local_file = \"./sibbr_parquet\""
   ]
  },
  {
   "cell_type": "markdown",
   "id": "c5c4cd14",
   "metadata": {},
   "source": [
    "### Convert to parquet"
   ]
  },
  {
   "cell_type": "code",
   "execution_count": 13,
   "id": "00188dcf",
   "metadata": {},
   "outputs": [
    {
     "name": "stdout",
     "output_type": "stream",
     "text": [
      "sibbr/data_part3.csv\n"
     ]
    },
    {
     "name": "stderr",
     "output_type": "stream",
     "text": [
      "/tmp/ipykernel_5764/3701533431.py:5: DtypeWarning: Columns (38) have mixed types. Specify dtype option on import or set low_memory=False.\n",
      "  df = pd.read_csv(p)\n"
     ]
    },
    {
     "name": "stdout",
     "output_type": "stream",
     "text": [
      "sibbr/data_part2.csv\n",
      "sibbr/data.csv\n"
     ]
    },
    {
     "name": "stderr",
     "output_type": "stream",
     "text": [
      "/tmp/ipykernel_5764/3701533431.py:5: DtypeWarning: Columns (38) have mixed types. Specify dtype option on import or set low_memory=False.\n",
      "  df = pd.read_csv(p)\n"
     ]
    },
    {
     "name": "stdout",
     "output_type": "stream",
     "text": [
      "sibbr/data_part4.csv\n"
     ]
    }
   ],
   "source": [
    "os.makedirs(local_file, exist_ok=True)\n",
    "\n",
    "for p in pathlib.Path(\"./sibbr\").rglob(\"data*.csv\"):\n",
    "    print(p)\n",
    "    df = pd.read_csv(p)\n",
    "\n",
    "    for column in df.columns:\n",
    "        if df[column].dtype == \"object\":\n",
    "            df[column] = df[column].astype(str)\n",
    "\n",
    "    filename = os.path.join(local_file, \"%s.parquet\" % p.stem)\n",
    "    df.to_parquet(filename)"
   ]
  },
  {
   "cell_type": "code",
   "execution_count": 14,
   "id": "46dae6b9",
   "metadata": {},
   "outputs": [
    {
     "data": {
      "application/vnd.jupyter.widget-view+json": {
       "model_id": "74b4a89a500f4826b3af7fb7d270604b",
       "version_major": 2,
       "version_minor": 0
      },
      "text/plain": [
       "FloatProgress(value=0.0, layout=Layout(width='auto'), style=ProgressStyle(bar_color='black'))"
      ]
     },
     "metadata": {},
     "output_type": "display_data"
    },
    {
     "name": "stdout",
     "output_type": "stream",
     "text": [
      "Registros carregados na tabela: 10,000,000\n"
     ]
    }
   ],
   "source": [
    "conn = duckdb.connect(\"sibbr.db\")\n",
    "\n",
    "conn.execute(\"DROP TABLE IF EXISTS sibbr\")\n",
    "conn.execute(f\"\"\"\n",
    "        CREATE TABLE sibbr AS\n",
    "        SELECT * FROM read_parquet('{local_file}', union_by_name=True)\n",
    "    \"\"\")\n",
    "\n",
    "result = conn.execute(\"SELECT COUNT(*) FROM sibbr\").fetchone()\n",
    "print(f\"Registros carregados na tabela: {result[0]:,}\")"
   ]
  }
 ],
 "metadata": {
  "kernelspec": {
   "display_name": "base",
   "language": "python",
   "name": "python3"
  },
  "language_info": {
   "codemirror_mode": {
    "name": "ipython",
    "version": 3
   },
   "file_extension": ".py",
   "mimetype": "text/x-python",
   "name": "python",
   "nbconvert_exporter": "python",
   "pygments_lexer": "ipython3",
   "version": "3.12.9"
  }
 },
 "nbformat": 4,
 "nbformat_minor": 5
}
